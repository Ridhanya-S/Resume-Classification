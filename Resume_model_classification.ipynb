{
 "cells": [
  {
   "cell_type": "code",
   "execution_count": 49,
   "metadata": {
    "colab": {
     "base_uri": "https://localhost:8080/"
    },
    "id": "WyzIUg1vZD5h",
    "outputId": "453fe805-7f20-45f7-b4ca-816b90f3a428"
   },
   "outputs": [
    {
     "name": "stderr",
     "output_type": "stream",
     "text": [
      "[nltk_data] Downloading package stopwords to\n",
      "[nltk_data]     C:\\Users\\Lenovo\\AppData\\Roaming\\nltk_data...\n",
      "[nltk_data]   Package stopwords is already up-to-date!\n",
      "[nltk_data] Downloading package wordnet to\n",
      "[nltk_data]     C:\\Users\\Lenovo\\AppData\\Roaming\\nltk_data...\n",
      "[nltk_data]   Package wordnet is already up-to-date!\n",
      "[nltk_data] Downloading package omw-1.4 to\n",
      "[nltk_data]     C:\\Users\\Lenovo\\AppData\\Roaming\\nltk_data...\n",
      "[nltk_data]   Package omw-1.4 is already up-to-date!\n",
      "[nltk_data] Downloading package punkt to\n",
      "[nltk_data]     C:\\Users\\Lenovo\\AppData\\Roaming\\nltk_data...\n",
      "[nltk_data]   Package punkt is already up-to-date!\n"
     ]
    },
    {
     "data": {
      "text/plain": [
       "True"
      ]
     },
     "execution_count": 49,
     "metadata": {},
     "output_type": "execute_result"
    }
   ],
   "source": [
    "import nltk\n",
    "nltk.download('stopwords')\n",
    "nltk.download('wordnet')\n",
    "nltk.download('omw-1.4')\n",
    "nltk.download('punkt')"
   ]
  },
  {
   "cell_type": "code",
   "execution_count": 9,
   "metadata": {},
   "outputs": [
    {
     "name": "stdout",
     "output_type": "stream",
     "text": [
      "Collecting tensorflow\n",
      "  Using cached tensorflow-2.10.0-cp310-cp310-win_amd64.whl (455.9 MB)\n",
      "Requirement already satisfied: setuptools in c:\\users\\lenovo\\appdata\\roaming\\python\\python310\\site-packages (from tensorflow) (63.4.1)\n",
      "Requirement already satisfied: protobuf<3.20,>=3.9.2 in c:\\python310\\lib\\site-packages (from tensorflow) (3.19.5)\n",
      "Requirement already satisfied: google-pasta>=0.1.1 in c:\\python310\\lib\\site-packages (from tensorflow) (0.2.0)\n",
      "Requirement already satisfied: tensorflow-estimator<2.11,>=2.10.0 in c:\\python310\\lib\\site-packages (from tensorflow) (2.10.0)\n",
      "Requirement already satisfied: keras<2.11,>=2.10.0 in c:\\python310\\lib\\site-packages (from tensorflow) (2.10.0)\n",
      "Requirement already satisfied: keras-preprocessing>=1.1.1 in c:\\python310\\lib\\site-packages (from tensorflow) (1.1.2)\n",
      "Requirement already satisfied: flatbuffers>=2.0 in c:\\python310\\lib\\site-packages (from tensorflow) (2.0.7)\n",
      "Requirement already satisfied: packaging in c:\\users\\lenovo\\appdata\\roaming\\python\\python310\\site-packages (from tensorflow) (21.3)\n",
      "Requirement already satisfied: six>=1.12.0 in c:\\users\\lenovo\\appdata\\roaming\\python\\python310\\site-packages (from tensorflow) (1.16.0)\n",
      "Requirement already satisfied: termcolor>=1.1.0 in c:\\python310\\lib\\site-packages (from tensorflow) (1.1.0)\n",
      "Requirement already satisfied: h5py>=2.9.0 in c:\\python310\\lib\\site-packages (from tensorflow) (3.7.0)\n",
      "Requirement already satisfied: tensorboard<2.11,>=2.10 in c:\\python310\\lib\\site-packages (from tensorflow) (2.10.0)\n",
      "Requirement already satisfied: absl-py>=1.0.0 in c:\\python310\\lib\\site-packages (from tensorflow) (1.2.0)\n",
      "Requirement already satisfied: numpy>=1.20 in c:\\users\\lenovo\\appdata\\roaming\\python\\python310\\site-packages (from tensorflow) (1.23.1)\n",
      "Requirement already satisfied: opt-einsum>=2.3.2 in c:\\python310\\lib\\site-packages (from tensorflow) (3.3.0)\n"
     ]
    },
    {
     "name": "stderr",
     "output_type": "stream",
     "text": [
      "WARNING: Ignoring invalid distribution -p (c:\\python310\\lib\\site-packages)\n",
      "WARNING: Ignoring invalid distribution -2p (c:\\python310\\lib\\site-packages)\n",
      "WARNING: Ignoring invalid distribution -1p (c:\\python310\\lib\\site-packages)\n",
      "WARNING: Ignoring invalid distribution -p (c:\\python310\\lib\\site-packages)\n",
      "WARNING: Ignoring invalid distribution -0p (c:\\python310\\lib\\site-packages)\n",
      "WARNING: Ignoring invalid distribution -ip (c:\\python310\\lib\\site-packages)\n",
      "WARNING: Ignoring invalid distribution - (c:\\python310\\lib\\site-packages)\n",
      "WARNING: Ignoring invalid distribution -p (c:\\python310\\lib\\site-packages)\n",
      "WARNING: Ignoring invalid distribution -2p (c:\\python310\\lib\\site-packages)\n",
      "WARNING: Ignoring invalid distribution -1p (c:\\python310\\lib\\site-packages)\n",
      "WARNING: Ignoring invalid distribution -p (c:\\python310\\lib\\site-packages)\n",
      "WARNING: Ignoring invalid distribution -0p (c:\\python310\\lib\\site-packages)\n",
      "WARNING: Ignoring invalid distribution -ip (c:\\python310\\lib\\site-packages)\n",
      "WARNING: Ignoring invalid distribution - (c:\\python310\\lib\\site-packages)\n",
      "  WARNING: Failed to write executable - trying to use .deleteme logic\n",
      "ERROR: Could not install packages due to an OSError: [WinError 2] The system cannot find the file specified: 'C:\\\\Python310\\\\Scripts\\\\estimator_ckpt_converter.exe' -> 'C:\\\\Python310\\\\Scripts\\\\estimator_ckpt_converter.exe.deleteme'\n",
      "\n"
     ]
    },
    {
     "name": "stdout",
     "output_type": "stream",
     "text": [
      "Requirement already satisfied: gast<=0.4.0,>=0.2.1 in c:\\python310\\lib\\site-packages (from tensorflow) (0.4.0)\n",
      "Requirement already satisfied: tensorflow-io-gcs-filesystem>=0.23.1 in c:\\python310\\lib\\site-packages (from tensorflow) (0.26.0)\n",
      "Requirement already satisfied: libclang>=13.0.0 in c:\\python310\\lib\\site-packages (from tensorflow) (14.0.6)\n",
      "Requirement already satisfied: astunparse>=1.6.0 in c:\\python310\\lib\\site-packages (from tensorflow) (1.6.3)\n",
      "Requirement already satisfied: wrapt>=1.11.0 in c:\\python310\\lib\\site-packages (from tensorflow) (1.14.1)\n",
      "Requirement already satisfied: grpcio<2.0,>=1.24.3 in c:\\python310\\lib\\site-packages (from tensorflow) (1.47.0)\n",
      "Requirement already satisfied: typing-extensions>=3.6.6 in c:\\python310\\lib\\site-packages (from tensorflow) (4.3.0)\n",
      "Requirement already satisfied: wheel<1.0,>=0.23.0 in c:\\python310\\lib\\site-packages (from astunparse>=1.6.0->tensorflow) (0.37.1)\n",
      "Requirement already satisfied: werkzeug>=1.0.1 in c:\\python310\\lib\\site-packages (from tensorboard<2.11,>=2.10->tensorflow) (2.2.2)\n",
      "Requirement already satisfied: google-auth<3,>=1.6.3 in c:\\python310\\lib\\site-packages (from tensorboard<2.11,>=2.10->tensorflow) (2.11.0)\n",
      "Requirement already satisfied: google-auth-oauthlib<0.5,>=0.4.1 in c:\\python310\\lib\\site-packages (from tensorboard<2.11,>=2.10->tensorflow) (0.4.6)\n",
      "Requirement already satisfied: requests<3,>=2.21.0 in c:\\users\\lenovo\\appdata\\roaming\\python\\python310\\site-packages (from tensorboard<2.11,>=2.10->tensorflow) (2.28.1)\n",
      "Requirement already satisfied: tensorboard-plugin-wit>=1.6.0 in c:\\python310\\lib\\site-packages (from tensorboard<2.11,>=2.10->tensorflow) (1.8.1)\n",
      "Requirement already satisfied: markdown>=2.6.8 in c:\\python310\\lib\\site-packages (from tensorboard<2.11,>=2.10->tensorflow) (3.4.1)\n",
      "Requirement already satisfied: tensorboard-data-server<0.7.0,>=0.6.0 in c:\\python310\\lib\\site-packages (from tensorboard<2.11,>=2.10->tensorflow) (0.6.1)\n",
      "Requirement already satisfied: pyparsing!=3.0.5,>=2.0.2 in c:\\users\\lenovo\\appdata\\roaming\\python\\python310\\site-packages (from packaging->tensorflow) (3.0.9)\n",
      "Requirement already satisfied: pyasn1-modules>=0.2.1 in c:\\python310\\lib\\site-packages (from google-auth<3,>=1.6.3->tensorboard<2.11,>=2.10->tensorflow) (0.2.8)\n",
      "Requirement already satisfied: rsa<5,>=3.1.4 in c:\\python310\\lib\\site-packages (from google-auth<3,>=1.6.3->tensorboard<2.11,>=2.10->tensorflow) (4.9)\n",
      "Requirement already satisfied: cachetools<6.0,>=2.0.0 in c:\\python310\\lib\\site-packages (from google-auth<3,>=1.6.3->tensorboard<2.11,>=2.10->tensorflow) (5.2.0)\n",
      "Requirement already satisfied: requests-oauthlib>=0.7.0 in c:\\python310\\lib\\site-packages (from google-auth-oauthlib<0.5,>=0.4.1->tensorboard<2.11,>=2.10->tensorflow) (1.3.1)\n",
      "Requirement already satisfied: charset-normalizer<3,>=2 in c:\\users\\lenovo\\appdata\\roaming\\python\\python310\\site-packages (from requests<3,>=2.21.0->tensorboard<2.11,>=2.10->tensorflow) (2.1.0)\n",
      "Requirement already satisfied: idna<4,>=2.5 in c:\\users\\lenovo\\appdata\\roaming\\python\\python310\\site-packages (from requests<3,>=2.21.0->tensorboard<2.11,>=2.10->tensorflow) (3.3)\n",
      "Requirement already satisfied: certifi>=2017.4.17 in c:\\python310\\lib\\site-packages (from requests<3,>=2.21.0->tensorboard<2.11,>=2.10->tensorflow) (2022.6.15)\n",
      "Requirement already satisfied: urllib3<1.27,>=1.21.1 in c:\\users\\lenovo\\appdata\\roaming\\python\\python310\\site-packages (from requests<3,>=2.21.0->tensorboard<2.11,>=2.10->tensorflow) (1.26.11)\n",
      "Requirement already satisfied: MarkupSafe>=2.1.1 in c:\\python310\\lib\\site-packages (from werkzeug>=1.0.1->tensorboard<2.11,>=2.10->tensorflow) (2.1.1)\n",
      "Requirement already satisfied: pyasn1<0.5.0,>=0.4.6 in c:\\python310\\lib\\site-packages (from pyasn1-modules>=0.2.1->google-auth<3,>=1.6.3->tensorboard<2.11,>=2.10->tensorflow) (0.4.8)\n",
      "Requirement already satisfied: oauthlib>=3.0.0 in c:\\python310\\lib\\site-packages (from requests-oauthlib>=0.7.0->google-auth-oauthlib<0.5,>=0.4.1->tensorboard<2.11,>=2.10->tensorflow) (3.2.0)\n",
      "Installing collected packages: tensorflow\n"
     ]
    }
   ],
   "source": [
    "!pip install tensorflow"
   ]
  },
  {
   "cell_type": "markdown",
   "metadata": {
    "id": "X18j6U2W0Y1H"
   },
   "source": [
    "LIBRARIES"
   ]
  },
  {
   "cell_type": "code",
   "execution_count": 158,
   "metadata": {
    "id": "gbHnmC1yQQrN"
   },
   "outputs": [],
   "source": [
    "import numpy as np\n",
    "import pandas as pd\n",
    "import matplotlib.pyplot as plt\n",
    "import seaborn as sns\n",
    "import warnings\n",
    "warnings.filterwarnings('ignore')\n",
    "\n",
    "import re\n",
    "from sklearn.preprocessing import LabelEncoder,StandardScaler\n",
    "from sklearn.model_selection import train_test_split\n",
    "from sklearn.feature_extraction.text import TfidfVectorizer\n",
    "from scipy.sparse import hstack\n",
    "from sklearn.multiclass import OneVsRestClassifier\n",
    "from sklearn.neighbors import KNeighborsClassifier\n",
    "from sklearn import metrics\n",
    "\n",
    "import keras\n",
    "from keras.models import Sequential\n",
    "from keras.layers import Dense, Embedding\n",
    "from keras.preprocessing.text import Tokenizer"
   ]
  },
  {
   "cell_type": "markdown",
   "metadata": {
    "id": "mkI1DHda0hmZ"
   },
   "source": [
    "LOAD DATASET"
   ]
  },
  {
   "cell_type": "code",
   "execution_count": 159,
   "metadata": {
    "colab": {
     "base_uri": "https://localhost:8080/",
     "height": 206
    },
    "id": "b22SE15cQXa_",
    "outputId": "6c5b4e5d-97a6-4587-d76e-94d8555cc104"
   },
   "outputs": [
    {
     "data": {
      "text/html": [
       "<div>\n",
       "<style scoped>\n",
       "    .dataframe tbody tr th:only-of-type {\n",
       "        vertical-align: middle;\n",
       "    }\n",
       "\n",
       "    .dataframe tbody tr th {\n",
       "        vertical-align: top;\n",
       "    }\n",
       "\n",
       "    .dataframe thead th {\n",
       "        text-align: right;\n",
       "    }\n",
       "</style>\n",
       "<table border=\"1\" class=\"dataframe\">\n",
       "  <thead>\n",
       "    <tr style=\"text-align: right;\">\n",
       "      <th></th>\n",
       "      <th>Unnamed: 0</th>\n",
       "      <th>industry</th>\n",
       "      <th>job_designation</th>\n",
       "      <th>job_description</th>\n",
       "      <th>responsibilities</th>\n",
       "      <th>requirements_skills</th>\n",
       "      <th>url_links</th>\n",
       "    </tr>\n",
       "  </thead>\n",
       "  <tbody>\n",
       "    <tr>\n",
       "      <th>0</th>\n",
       "      <td>0</td>\n",
       "      <td>Accounting</td>\n",
       "      <td>Billing Manager job description</td>\n",
       "      <td>We are looking for a Billing Manager to join o...</td>\n",
       "      <td>Oversee the preparation of statements and bill...</td>\n",
       "      <td>Proven work experience as a Billing Manager or...</td>\n",
       "      <td>https://resources.workable.com/billing-manager...</td>\n",
       "    </tr>\n",
       "    <tr>\n",
       "      <th>1</th>\n",
       "      <td>1</td>\n",
       "      <td>Accounting</td>\n",
       "      <td>Accounts Payable Specialist job description</td>\n",
       "      <td>We are looking for an Accounts Payable Special...</td>\n",
       "      <td>Charge expenses to accounts and cost centers a...</td>\n",
       "      <td>Proven work experience as an Accounts Payable ...</td>\n",
       "      <td>https://resources.workable.com/accounts-payabl...</td>\n",
       "    </tr>\n",
       "    <tr>\n",
       "      <th>2</th>\n",
       "      <td>2</td>\n",
       "      <td>Accounting</td>\n",
       "      <td>Medical Biller job description</td>\n",
       "      <td>We are looking for a Medical Biller to join ou...</td>\n",
       "      <td>Generate revenue by making payment arrangement...</td>\n",
       "      <td>Proven work experience as a Medical Biller or ...</td>\n",
       "      <td>https://resources.workable.com/medical-biller-...</td>\n",
       "    </tr>\n",
       "    <tr>\n",
       "      <th>3</th>\n",
       "      <td>3</td>\n",
       "      <td>Accounting</td>\n",
       "      <td>Cost analyst job description</td>\n",
       "      <td>We are looking for a cost analyst to help us a...</td>\n",
       "      <td>Gather and analyze financial data\\nDetermine s...</td>\n",
       "      <td>Proven experience as a cost analyst, cost spec...</td>\n",
       "      <td>https://resources.workable.com/cost-analyst-jo...</td>\n",
       "    </tr>\n",
       "    <tr>\n",
       "      <th>4</th>\n",
       "      <td>4</td>\n",
       "      <td>Accounting</td>\n",
       "      <td>Payroll Accountant job description</td>\n",
       "      <td>We are looking for an experienced payroll acco...</td>\n",
       "      <td>Oversee employee paychecks\\nCalculate net sala...</td>\n",
       "      <td>Previous experience as a payroll accountant or...</td>\n",
       "      <td>https://resources.workable.com/payroll-account...</td>\n",
       "    </tr>\n",
       "  </tbody>\n",
       "</table>\n",
       "</div>"
      ],
      "text/plain": [
       "   Unnamed: 0    industry                              job_designation  \\\n",
       "0           0  Accounting              Billing Manager job description   \n",
       "1           1  Accounting  Accounts Payable Specialist job description   \n",
       "2           2  Accounting               Medical Biller job description   \n",
       "3           3  Accounting                 Cost analyst job description   \n",
       "4           4  Accounting           Payroll Accountant job description   \n",
       "\n",
       "                                     job_description  \\\n",
       "0  We are looking for a Billing Manager to join o...   \n",
       "1  We are looking for an Accounts Payable Special...   \n",
       "2  We are looking for a Medical Biller to join ou...   \n",
       "3  We are looking for a cost analyst to help us a...   \n",
       "4  We are looking for an experienced payroll acco...   \n",
       "\n",
       "                                    responsibilities  \\\n",
       "0  Oversee the preparation of statements and bill...   \n",
       "1  Charge expenses to accounts and cost centers a...   \n",
       "2  Generate revenue by making payment arrangement...   \n",
       "3  Gather and analyze financial data\\nDetermine s...   \n",
       "4  Oversee employee paychecks\\nCalculate net sala...   \n",
       "\n",
       "                                 requirements_skills  \\\n",
       "0  Proven work experience as a Billing Manager or...   \n",
       "1  Proven work experience as an Accounts Payable ...   \n",
       "2  Proven work experience as a Medical Biller or ...   \n",
       "3  Proven experience as a cost analyst, cost spec...   \n",
       "4  Previous experience as a payroll accountant or...   \n",
       "\n",
       "                                           url_links  \n",
       "0  https://resources.workable.com/billing-manager...  \n",
       "1  https://resources.workable.com/accounts-payabl...  \n",
       "2  https://resources.workable.com/medical-biller-...  \n",
       "3  https://resources.workable.com/cost-analyst-jo...  \n",
       "4  https://resources.workable.com/payroll-account...  "
      ]
     },
     "execution_count": 159,
     "metadata": {},
     "output_type": "execute_result"
    }
   ],
   "source": [
    "df = pd.read_csv('jd_data_designation.csv')\n",
    "df.head()"
   ]
  },
  {
   "cell_type": "code",
   "execution_count": 160,
   "metadata": {
    "colab": {
     "base_uri": "https://localhost:8080/"
    },
    "id": "8RD50o38Q0yo",
    "outputId": "e878063e-c946-40d8-c1da-24915590f67e"
   },
   "outputs": [
    {
     "data": {
      "text/plain": [
       "Unnamed: 0             0\n",
       "industry               0\n",
       "job_designation        0\n",
       "job_description        0\n",
       "responsibilities       0\n",
       "requirements_skills    0\n",
       "url_links              0\n",
       "dtype: int64"
      ]
     },
     "execution_count": 160,
     "metadata": {},
     "output_type": "execute_result"
    }
   ],
   "source": [
    "df.isnull().sum()"
   ]
  },
  {
   "cell_type": "code",
   "execution_count": 161,
   "metadata": {
    "colab": {
     "base_uri": "https://localhost:8080/"
    },
    "id": "ZFw-s3PEQ0wK",
    "outputId": "509f275d-57f3-4e4e-8452-94e96d9fef92"
   },
   "outputs": [
    {
     "data": {
      "text/plain": [
       "(1029, 7)"
      ]
     },
     "execution_count": 161,
     "metadata": {},
     "output_type": "execute_result"
    }
   ],
   "source": [
    "df.shape"
   ]
  },
  {
   "cell_type": "code",
   "execution_count": 162,
   "metadata": {
    "colab": {
     "base_uri": "https://localhost:8080/"
    },
    "id": "I7vHd0YgQ4Pv",
    "outputId": "50e3fab9-f862-4536-94c5-51f0a5f9c9b5"
   },
   "outputs": [
    {
     "name": "stdout",
     "output_type": "stream",
     "text": [
      "<class 'pandas.core.frame.DataFrame'>\n",
      "RangeIndex: 1029 entries, 0 to 1028\n",
      "Data columns (total 7 columns):\n",
      " #   Column               Non-Null Count  Dtype \n",
      "---  ------               --------------  ----- \n",
      " 0   Unnamed: 0           1029 non-null   int64 \n",
      " 1   industry             1029 non-null   object\n",
      " 2   job_designation      1029 non-null   object\n",
      " 3   job_description      1029 non-null   object\n",
      " 4   responsibilities     1029 non-null   object\n",
      " 5   requirements_skills  1029 non-null   object\n",
      " 6   url_links            1029 non-null   object\n",
      "dtypes: int64(1), object(6)\n",
      "memory usage: 56.4+ KB\n"
     ]
    }
   ],
   "source": [
    "df.info()"
   ]
  },
  {
   "cell_type": "code",
   "execution_count": 163,
   "metadata": {
    "colab": {
     "base_uri": "https://localhost:8080/",
     "height": 833
    },
    "id": "nNWt1V2JQXWy",
    "outputId": "4dc16e00-2622-4dd7-b51f-145fc89a4282"
   },
   "outputs": [
    {
     "data": {
      "text/html": [
       "<div>\n",
       "<style scoped>\n",
       "    .dataframe tbody tr th:only-of-type {\n",
       "        vertical-align: middle;\n",
       "    }\n",
       "\n",
       "    .dataframe tbody tr th {\n",
       "        vertical-align: top;\n",
       "    }\n",
       "\n",
       "    .dataframe thead th {\n",
       "        text-align: right;\n",
       "    }\n",
       "</style>\n",
       "<table border=\"1\" class=\"dataframe\">\n",
       "  <thead>\n",
       "    <tr style=\"text-align: right;\">\n",
       "      <th></th>\n",
       "      <th>index</th>\n",
       "      <th>industry</th>\n",
       "    </tr>\n",
       "  </thead>\n",
       "  <tbody>\n",
       "    <tr>\n",
       "      <th>0</th>\n",
       "      <td>Healthcare</td>\n",
       "      <td>120</td>\n",
       "    </tr>\n",
       "    <tr>\n",
       "      <th>1</th>\n",
       "      <td>Administrative</td>\n",
       "      <td>97</td>\n",
       "    </tr>\n",
       "    <tr>\n",
       "      <th>2</th>\n",
       "      <td>IT and Development</td>\n",
       "      <td>89</td>\n",
       "    </tr>\n",
       "    <tr>\n",
       "      <th>3</th>\n",
       "      <td>Human Resources (HR)</td>\n",
       "      <td>85</td>\n",
       "    </tr>\n",
       "    <tr>\n",
       "      <th>4</th>\n",
       "      <td>Marketing</td>\n",
       "      <td>68</td>\n",
       "    </tr>\n",
       "    <tr>\n",
       "      <th>5</th>\n",
       "      <td>Hospitality</td>\n",
       "      <td>58</td>\n",
       "    </tr>\n",
       "    <tr>\n",
       "      <th>6</th>\n",
       "      <td>Sales</td>\n",
       "      <td>57</td>\n",
       "    </tr>\n",
       "    <tr>\n",
       "      <th>7</th>\n",
       "      <td>Customer service</td>\n",
       "      <td>53</td>\n",
       "    </tr>\n",
       "    <tr>\n",
       "      <th>8</th>\n",
       "      <td>Accounting</td>\n",
       "      <td>43</td>\n",
       "    </tr>\n",
       "    <tr>\n",
       "      <th>9</th>\n",
       "      <td>Educator &amp; Education</td>\n",
       "      <td>37</td>\n",
       "    </tr>\n",
       "    <tr>\n",
       "      <th>10</th>\n",
       "      <td>Finance</td>\n",
       "      <td>36</td>\n",
       "    </tr>\n",
       "    <tr>\n",
       "      <th>11</th>\n",
       "      <td>Construction</td>\n",
       "      <td>30</td>\n",
       "    </tr>\n",
       "    <tr>\n",
       "      <th>12</th>\n",
       "      <td>Media</td>\n",
       "      <td>30</td>\n",
       "    </tr>\n",
       "    <tr>\n",
       "      <th>13</th>\n",
       "      <td>Logistics</td>\n",
       "      <td>28</td>\n",
       "    </tr>\n",
       "    <tr>\n",
       "      <th>14</th>\n",
       "      <td>Engineering</td>\n",
       "      <td>27</td>\n",
       "    </tr>\n",
       "    <tr>\n",
       "      <th>15</th>\n",
       "      <td>Production</td>\n",
       "      <td>26</td>\n",
       "    </tr>\n",
       "    <tr>\n",
       "      <th>16</th>\n",
       "      <td>Legal</td>\n",
       "      <td>22</td>\n",
       "    </tr>\n",
       "    <tr>\n",
       "      <th>17</th>\n",
       "      <td>Law enforcement / Security</td>\n",
       "      <td>22</td>\n",
       "    </tr>\n",
       "    <tr>\n",
       "      <th>18</th>\n",
       "      <td>Corporate training</td>\n",
       "      <td>21</td>\n",
       "    </tr>\n",
       "    <tr>\n",
       "      <th>19</th>\n",
       "      <td>Facilities</td>\n",
       "      <td>20</td>\n",
       "    </tr>\n",
       "    <tr>\n",
       "      <th>20</th>\n",
       "      <td>Retail</td>\n",
       "      <td>14</td>\n",
       "    </tr>\n",
       "    <tr>\n",
       "      <th>21</th>\n",
       "      <td>Design</td>\n",
       "      <td>14</td>\n",
       "    </tr>\n",
       "    <tr>\n",
       "      <th>22</th>\n",
       "      <td>Travel &amp; Tourism</td>\n",
       "      <td>10</td>\n",
       "    </tr>\n",
       "    <tr>\n",
       "      <th>23</th>\n",
       "      <td>Public Relations (PR)</td>\n",
       "      <td>10</td>\n",
       "    </tr>\n",
       "    <tr>\n",
       "      <th>24</th>\n",
       "      <td>Real estate</td>\n",
       "      <td>6</td>\n",
       "    </tr>\n",
       "    <tr>\n",
       "      <th>25</th>\n",
       "      <td>Pharmaceuticals</td>\n",
       "      <td>6</td>\n",
       "    </tr>\n",
       "  </tbody>\n",
       "</table>\n",
       "</div>"
      ],
      "text/plain": [
       "                         index  industry\n",
       "0                   Healthcare       120\n",
       "1               Administrative        97\n",
       "2           IT and Development        89\n",
       "3         Human Resources (HR)        85\n",
       "4                    Marketing        68\n",
       "5                  Hospitality        58\n",
       "6                        Sales        57\n",
       "7             Customer service        53\n",
       "8                   Accounting        43\n",
       "9         Educator & Education        37\n",
       "10                     Finance        36\n",
       "11                Construction        30\n",
       "12                       Media        30\n",
       "13                   Logistics        28\n",
       "14                 Engineering        27\n",
       "15                  Production        26\n",
       "16                       Legal        22\n",
       "17  Law enforcement / Security        22\n",
       "18          Corporate training        21\n",
       "19                  Facilities        20\n",
       "20                      Retail        14\n",
       "21                      Design        14\n",
       "22            Travel & Tourism        10\n",
       "23       Public Relations (PR)        10\n",
       "24                 Real estate         6\n",
       "25             Pharmaceuticals         6"
      ]
     },
     "execution_count": 163,
     "metadata": {},
     "output_type": "execute_result"
    }
   ],
   "source": [
    "category = df['industry'].value_counts().reset_index()\n",
    "category"
   ]
  },
  {
   "cell_type": "markdown",
   "metadata": {
    "id": "UCZAXVyL0mjr"
   },
   "source": [
    "VISUALIZNG THE DATA"
   ]
  },
  {
   "cell_type": "code",
   "execution_count": 164,
   "metadata": {
    "colab": {
     "base_uri": "https://localhost:8080/",
     "height": 671
    },
    "id": "O6YErVu3exCw",
    "outputId": "b092a8a2-0b7c-4a5b-b48b-454465e90914"
   },
   "outputs": [
    {
     "data": {
      "image/png": "[encoded data removed]",
      "text/plain": [
       "<Figure size 1080x576 with 1 Axes>"
      ]
     },
     "metadata": {
      "needs_background": "light"
     },
     "output_type": "display_data"
    }
   ],
   "source": [
    "plt.figure(figsize=(15,8))\n",
    "countplot = sns.countplot(x='industry', palette='dark',data=df)\n",
    "plt.ylabel(\"Count of each industry\", size = 15)\n",
    "plt.xlabel(\"Industry\", size = 20)\n",
    "countplot.set_xticklabels(countplot.get_xticklabels(), rotation=90, size = 13)\n",
    "plt.show()"
   ]
  },
  {
   "cell_type": "markdown",
   "metadata": {
    "id": "1K_yNHZ80wn6"
   },
   "source": [
    "EXPLORATORY DATA ANALYSIS & TEXT PREPROCESSING"
   ]
  },
  {
   "cell_type": "code",
   "execution_count": 165,
   "metadata": {},
   "outputs": [],
   "source": [
    "# TEXT DATA PRE-PROCESSING\n",
    "\n",
    "import re\n",
    "\n",
    "# STOP WORDS \n",
    "from nltk.corpus import stopwords\n",
    "stop_words = set(stopwords.words('english'))\n",
    "\n",
    "def cleanResume(resumeText):\n",
    "    resumeText = re.sub('\\r\\n', ' ', resumeText) # remove blank spaces\n",
    "    resumeText = re.sub('[%s]' % re.escape(\"\"\"!\"#$%&'()*+,-/:;<=>?@[\\]^_`{|}~\"\"\"), ' ', resumeText)  # remove punctuations\n",
    "    resumeText = re.sub(r'[^\\x00-\\x7f]',r' ', resumeText) # non ascii values\n",
    "    resumeText = re.sub('\\s+', ' ', resumeText)  # remove extra whitespace\n",
    "    \n",
    "    resumeText = resumeText.replace('job description','')\n",
    "    resumeText = resumeText.lower() # convert to lower case\n",
    "    tokens = nltk.word_tokenize(resumeText) # tokenize\n",
    "    filtered_text = [word for word in tokens if not word in stop_words] # remove stop words\n",
    "    return ' '.join(filtered_text)\n"
   ]
  },
  {
   "cell_type": "code",
   "execution_count": 166,
   "metadata": {},
   "outputs": [],
   "source": [
    "# COMBINING THE REQUIRED DATASET INTO A SINGLE COLUMN\n",
    "\n",
    "df[\"resume\"] = df[['industry', 'job_designation','job_description','responsibilities', 'requirements_skills']].astype(object).apply(\" \".join, axis=1)"
   ]
  },
  {
   "cell_type": "code",
   "execution_count": 167,
   "metadata": {
    "colab": {
     "base_uri": "https://localhost:8080/",
     "height": 206
    },
    "id": "SGnbL2rZVnK7",
    "outputId": "ffbd9a85-1041-4a92-e60f-1f00e189a225"
   },
   "outputs": [
    {
     "data": {
      "text/html": [
       "<div>\n",
       "<style scoped>\n",
       "    .dataframe tbody tr th:only-of-type {\n",
       "        vertical-align: middle;\n",
       "    }\n",
       "\n",
       "    .dataframe tbody tr th {\n",
       "        vertical-align: top;\n",
       "    }\n",
       "\n",
       "    .dataframe thead th {\n",
       "        text-align: right;\n",
       "    }\n",
       "</style>\n",
       "<table border=\"1\" class=\"dataframe\">\n",
       "  <thead>\n",
       "    <tr style=\"text-align: right;\">\n",
       "      <th></th>\n",
       "      <th>Unnamed: 0</th>\n",
       "      <th>industry</th>\n",
       "      <th>job_designation</th>\n",
       "      <th>job_description</th>\n",
       "      <th>responsibilities</th>\n",
       "      <th>requirements_skills</th>\n",
       "      <th>url_links</th>\n",
       "      <th>resume</th>\n",
       "      <th>processed_data</th>\n",
       "    </tr>\n",
       "  </thead>\n",
       "  <tbody>\n",
       "    <tr>\n",
       "      <th>0</th>\n",
       "      <td>0</td>\n",
       "      <td>Accounting</td>\n",
       "      <td>Billing Manager job description</td>\n",
       "      <td>We are looking for a Billing Manager to join o...</td>\n",
       "      <td>Oversee the preparation of statements and bill...</td>\n",
       "      <td>Proven work experience as a Billing Manager or...</td>\n",
       "      <td>https://resources.workable.com/billing-manager...</td>\n",
       "      <td>Accounting Billing Manager job description We ...</td>\n",
       "      <td>accounting billing manager looking billing man...</td>\n",
       "    </tr>\n",
       "    <tr>\n",
       "      <th>1</th>\n",
       "      <td>1</td>\n",
       "      <td>Accounting</td>\n",
       "      <td>Accounts Payable Specialist job description</td>\n",
       "      <td>We are looking for an Accounts Payable Special...</td>\n",
       "      <td>Charge expenses to accounts and cost centers a...</td>\n",
       "      <td>Proven work experience as an Accounts Payable ...</td>\n",
       "      <td>https://resources.workable.com/accounts-payabl...</td>\n",
       "      <td>Accounting Accounts Payable Specialist job des...</td>\n",
       "      <td>accounting accounts payable specialist looking...</td>\n",
       "    </tr>\n",
       "    <tr>\n",
       "      <th>2</th>\n",
       "      <td>2</td>\n",
       "      <td>Accounting</td>\n",
       "      <td>Medical Biller job description</td>\n",
       "      <td>We are looking for a Medical Biller to join ou...</td>\n",
       "      <td>Generate revenue by making payment arrangement...</td>\n",
       "      <td>Proven work experience as a Medical Biller or ...</td>\n",
       "      <td>https://resources.workable.com/medical-biller-...</td>\n",
       "      <td>Accounting Medical Biller job description We a...</td>\n",
       "      <td>accounting medical biller looking medical bill...</td>\n",
       "    </tr>\n",
       "    <tr>\n",
       "      <th>3</th>\n",
       "      <td>3</td>\n",
       "      <td>Accounting</td>\n",
       "      <td>Cost analyst job description</td>\n",
       "      <td>We are looking for a cost analyst to help us a...</td>\n",
       "      <td>Gather and analyze financial data\\nDetermine s...</td>\n",
       "      <td>Proven experience as a cost analyst, cost spec...</td>\n",
       "      <td>https://resources.workable.com/cost-analyst-jo...</td>\n",
       "      <td>Accounting Cost analyst job description We are...</td>\n",
       "      <td>accounting cost analyst looking cost analyst h...</td>\n",
       "    </tr>\n",
       "    <tr>\n",
       "      <th>4</th>\n",
       "      <td>4</td>\n",
       "      <td>Accounting</td>\n",
       "      <td>Payroll Accountant job description</td>\n",
       "      <td>We are looking for an experienced payroll acco...</td>\n",
       "      <td>Oversee employee paychecks\\nCalculate net sala...</td>\n",
       "      <td>Previous experience as a payroll accountant or...</td>\n",
       "      <td>https://resources.workable.com/payroll-account...</td>\n",
       "      <td>Accounting Payroll Accountant job description ...</td>\n",
       "      <td>accounting payroll accountant looking experien...</td>\n",
       "    </tr>\n",
       "  </tbody>\n",
       "</table>\n",
       "</div>"
      ],
      "text/plain": [
       "   Unnamed: 0    industry                              job_designation  \\\n",
       "0           0  Accounting              Billing Manager job description   \n",
       "1           1  Accounting  Accounts Payable Specialist job description   \n",
       "2           2  Accounting               Medical Biller job description   \n",
       "3           3  Accounting                 Cost analyst job description   \n",
       "4           4  Accounting           Payroll Accountant job description   \n",
       "\n",
       "                                     job_description  \\\n",
       "0  We are looking for a Billing Manager to join o...   \n",
       "1  We are looking for an Accounts Payable Special...   \n",
       "2  We are looking for a Medical Biller to join ou...   \n",
       "3  We are looking for a cost analyst to help us a...   \n",
       "4  We are looking for an experienced payroll acco...   \n",
       "\n",
       "                                    responsibilities  \\\n",
       "0  Oversee the preparation of statements and bill...   \n",
       "1  Charge expenses to accounts and cost centers a...   \n",
       "2  Generate revenue by making payment arrangement...   \n",
       "3  Gather and analyze financial data\\nDetermine s...   \n",
       "4  Oversee employee paychecks\\nCalculate net sala...   \n",
       "\n",
       "                                 requirements_skills  \\\n",
       "0  Proven work experience as a Billing Manager or...   \n",
       "1  Proven work experience as an Accounts Payable ...   \n",
       "2  Proven work experience as a Medical Biller or ...   \n",
       "3  Proven experience as a cost analyst, cost spec...   \n",
       "4  Previous experience as a payroll accountant or...   \n",
       "\n",
       "                                           url_links  \\\n",
       "0  https://resources.workable.com/billing-manager...   \n",
       "1  https://resources.workable.com/accounts-payabl...   \n",
       "2  https://resources.workable.com/medical-biller-...   \n",
       "3  https://resources.workable.com/cost-analyst-jo...   \n",
       "4  https://resources.workable.com/payroll-account...   \n",
       "\n",
       "                                              resume  \\\n",
       "0  Accounting Billing Manager job description We ...   \n",
       "1  Accounting Accounts Payable Specialist job des...   \n",
       "2  Accounting Medical Biller job description We a...   \n",
       "3  Accounting Cost analyst job description We are...   \n",
       "4  Accounting Payroll Accountant job description ...   \n",
       "\n",
       "                                      processed_data  \n",
       "0  accounting billing manager looking billing man...  \n",
       "1  accounting accounts payable specialist looking...  \n",
       "2  accounting medical biller looking medical bill...  \n",
       "3  accounting cost analyst looking cost analyst h...  \n",
       "4  accounting payroll accountant looking experien...  "
      ]
     },
     "execution_count": 167,
     "metadata": {},
     "output_type": "execute_result"
    }
   ],
   "source": [
    "df['processed_data'] = df['resume'].apply(lambda x:cleanResume(x))\n",
    "df.head()"
   ]
  },
  {
   "cell_type": "code",
   "execution_count": 168,
   "metadata": {},
   "outputs": [
    {
     "data": {
      "text/html": [
       "<div>\n",
       "<style scoped>\n",
       "    .dataframe tbody tr th:only-of-type {\n",
       "        vertical-align: middle;\n",
       "    }\n",
       "\n",
       "    .dataframe tbody tr th {\n",
       "        vertical-align: top;\n",
       "    }\n",
       "\n",
       "    .dataframe thead th {\n",
       "        text-align: right;\n",
       "    }\n",
       "</style>\n",
       "<table border=\"1\" class=\"dataframe\">\n",
       "  <thead>\n",
       "    <tr style=\"text-align: right;\">\n",
       "      <th></th>\n",
       "      <th>industry</th>\n",
       "      <th>job_designation</th>\n",
       "      <th>job_description</th>\n",
       "      <th>responsibilities</th>\n",
       "      <th>requirements_skills</th>\n",
       "      <th>url_links</th>\n",
       "      <th>resume</th>\n",
       "      <th>processed_data</th>\n",
       "    </tr>\n",
       "  </thead>\n",
       "  <tbody>\n",
       "    <tr>\n",
       "      <th>0</th>\n",
       "      <td>Accounting</td>\n",
       "      <td>Billing Manager job description</td>\n",
       "      <td>We are looking for a Billing Manager to join o...</td>\n",
       "      <td>Oversee the preparation of statements and bill...</td>\n",
       "      <td>Proven work experience as a Billing Manager or...</td>\n",
       "      <td>https://resources.workable.com/billing-manager...</td>\n",
       "      <td>Accounting Billing Manager job description We ...</td>\n",
       "      <td>accounting billing manager looking billing man...</td>\n",
       "    </tr>\n",
       "    <tr>\n",
       "      <th>1</th>\n",
       "      <td>Accounting</td>\n",
       "      <td>Accounts Payable Specialist job description</td>\n",
       "      <td>We are looking for an Accounts Payable Special...</td>\n",
       "      <td>Charge expenses to accounts and cost centers a...</td>\n",
       "      <td>Proven work experience as an Accounts Payable ...</td>\n",
       "      <td>https://resources.workable.com/accounts-payabl...</td>\n",
       "      <td>Accounting Accounts Payable Specialist job des...</td>\n",
       "      <td>accounting accounts payable specialist looking...</td>\n",
       "    </tr>\n",
       "    <tr>\n",
       "      <th>2</th>\n",
       "      <td>Accounting</td>\n",
       "      <td>Medical Biller job description</td>\n",
       "      <td>We are looking for a Medical Biller to join ou...</td>\n",
       "      <td>Generate revenue by making payment arrangement...</td>\n",
       "      <td>Proven work experience as a Medical Biller or ...</td>\n",
       "      <td>https://resources.workable.com/medical-biller-...</td>\n",
       "      <td>Accounting Medical Biller job description We a...</td>\n",
       "      <td>accounting medical biller looking medical bill...</td>\n",
       "    </tr>\n",
       "    <tr>\n",
       "      <th>3</th>\n",
       "      <td>Accounting</td>\n",
       "      <td>Cost analyst job description</td>\n",
       "      <td>We are looking for a cost analyst to help us a...</td>\n",
       "      <td>Gather and analyze financial data\\nDetermine s...</td>\n",
       "      <td>Proven experience as a cost analyst, cost spec...</td>\n",
       "      <td>https://resources.workable.com/cost-analyst-jo...</td>\n",
       "      <td>Accounting Cost analyst job description We are...</td>\n",
       "      <td>accounting cost analyst looking cost analyst h...</td>\n",
       "    </tr>\n",
       "    <tr>\n",
       "      <th>4</th>\n",
       "      <td>Accounting</td>\n",
       "      <td>Payroll Accountant job description</td>\n",
       "      <td>We are looking for an experienced payroll acco...</td>\n",
       "      <td>Oversee employee paychecks\\nCalculate net sala...</td>\n",
       "      <td>Previous experience as a payroll accountant or...</td>\n",
       "      <td>https://resources.workable.com/payroll-account...</td>\n",
       "      <td>Accounting Payroll Accountant job description ...</td>\n",
       "      <td>accounting payroll accountant looking experien...</td>\n",
       "    </tr>\n",
       "  </tbody>\n",
       "</table>\n",
       "</div>"
      ],
      "text/plain": [
       "     industry                              job_designation  \\\n",
       "0  Accounting              Billing Manager job description   \n",
       "1  Accounting  Accounts Payable Specialist job description   \n",
       "2  Accounting               Medical Biller job description   \n",
       "3  Accounting                 Cost analyst job description   \n",
       "4  Accounting           Payroll Accountant job description   \n",
       "\n",
       "                                     job_description  \\\n",
       "0  We are looking for a Billing Manager to join o...   \n",
       "1  We are looking for an Accounts Payable Special...   \n",
       "2  We are looking for a Medical Biller to join ou...   \n",
       "3  We are looking for a cost analyst to help us a...   \n",
       "4  We are looking for an experienced payroll acco...   \n",
       "\n",
       "                                    responsibilities  \\\n",
       "0  Oversee the preparation of statements and bill...   \n",
       "1  Charge expenses to accounts and cost centers a...   \n",
       "2  Generate revenue by making payment arrangement...   \n",
       "3  Gather and analyze financial data\\nDetermine s...   \n",
       "4  Oversee employee paychecks\\nCalculate net sala...   \n",
       "\n",
       "                                 requirements_skills  \\\n",
       "0  Proven work experience as a Billing Manager or...   \n",
       "1  Proven work experience as an Accounts Payable ...   \n",
       "2  Proven work experience as a Medical Biller or ...   \n",
       "3  Proven experience as a cost analyst, cost spec...   \n",
       "4  Previous experience as a payroll accountant or...   \n",
       "\n",
       "                                           url_links  \\\n",
       "0  https://resources.workable.com/billing-manager...   \n",
       "1  https://resources.workable.com/accounts-payabl...   \n",
       "2  https://resources.workable.com/medical-biller-...   \n",
       "3  https://resources.workable.com/cost-analyst-jo...   \n",
       "4  https://resources.workable.com/payroll-account...   \n",
       "\n",
       "                                              resume  \\\n",
       "0  Accounting Billing Manager job description We ...   \n",
       "1  Accounting Accounts Payable Specialist job des...   \n",
       "2  Accounting Medical Biller job description We a...   \n",
       "3  Accounting Cost analyst job description We are...   \n",
       "4  Accounting Payroll Accountant job description ...   \n",
       "\n",
       "                                      processed_data  \n",
       "0  accounting billing manager looking billing man...  \n",
       "1  accounting accounts payable specialist looking...  \n",
       "2  accounting medical biller looking medical bill...  \n",
       "3  accounting cost analyst looking cost analyst h...  \n",
       "4  accounting payroll accountant looking experien...  "
      ]
     },
     "execution_count": 168,
     "metadata": {},
     "output_type": "execute_result"
    }
   ],
   "source": [
    "df.drop('Unnamed: 0', inplace=True, axis=1)\n",
    "df.head()"
   ]
  },
  {
   "cell_type": "code",
   "execution_count": 169,
   "metadata": {
    "colab": {
     "base_uri": "https://localhost:8080/",
     "height": 206
    },
    "id": "FLuxR5KLpa4p",
    "outputId": "4c234894-4c22-4823-ee7f-078626fa1fa5"
   },
   "outputs": [
    {
     "data": {
      "text/html": [
       "<div>\n",
       "<style scoped>\n",
       "    .dataframe tbody tr th:only-of-type {\n",
       "        vertical-align: middle;\n",
       "    }\n",
       "\n",
       "    .dataframe tbody tr th {\n",
       "        vertical-align: top;\n",
       "    }\n",
       "\n",
       "    .dataframe thead th {\n",
       "        text-align: right;\n",
       "    }\n",
       "</style>\n",
       "<table border=\"1\" class=\"dataframe\">\n",
       "  <thead>\n",
       "    <tr style=\"text-align: right;\">\n",
       "      <th></th>\n",
       "      <th>industry</th>\n",
       "      <th>job_designation</th>\n",
       "      <th>job_description</th>\n",
       "      <th>responsibilities</th>\n",
       "      <th>requirements_skills</th>\n",
       "      <th>url_links</th>\n",
       "      <th>resume</th>\n",
       "      <th>processed_data</th>\n",
       "      <th>target</th>\n",
       "    </tr>\n",
       "  </thead>\n",
       "  <tbody>\n",
       "    <tr>\n",
       "      <th>1024</th>\n",
       "      <td>Retail</td>\n",
       "      <td>Area Manager job description</td>\n",
       "      <td>We are looking for an experienced Area Manager...</td>\n",
       "      <td>Formulate fruitful business development strate...</td>\n",
       "      <td>Proven experience as area manager, store manag...</td>\n",
       "      <td>https://resources.workable.com/area-manager-jo...</td>\n",
       "      <td>Retail Area Manager job description We are loo...</td>\n",
       "      <td>retail area manager looking experienced area m...</td>\n",
       "      <td>23</td>\n",
       "    </tr>\n",
       "    <tr>\n",
       "      <th>1025</th>\n",
       "      <td>Retail</td>\n",
       "      <td>Retail Buyer job description</td>\n",
       "      <td>We are looking for a competent Retail buyer to...</td>\n",
       "      <td>Identify customer preferences and forecast con...</td>\n",
       "      <td>Proven experience as a retail buyer or relevan...</td>\n",
       "      <td>https://resources.workable.com/retail-buyer-jo...</td>\n",
       "      <td>Retail Retail Buyer job description We are loo...</td>\n",
       "      <td>retail retail buyer looking competent retail b...</td>\n",
       "      <td>23</td>\n",
       "    </tr>\n",
       "    <tr>\n",
       "      <th>1026</th>\n",
       "      <td>Retail</td>\n",
       "      <td>Category Manager job description</td>\n",
       "      <td>We are looking for a Category Manager to manag...</td>\n",
       "      <td>Analyze data or insights to determine industry...</td>\n",
       "      <td>Proven experience as category manager or simil...</td>\n",
       "      <td>https://resources.workable.com/category-manage...</td>\n",
       "      <td>Retail Category Manager job description We are...</td>\n",
       "      <td>retail category manager looking category manag...</td>\n",
       "      <td>23</td>\n",
       "    </tr>\n",
       "    <tr>\n",
       "      <th>1027</th>\n",
       "      <td>Retail</td>\n",
       "      <td>Merchandiser job description</td>\n",
       "      <td>We are looking for an experienced Merchandiser...</td>\n",
       "      <td>Plan and develop merchandising strategies that...</td>\n",
       "      <td>Proven working experience in merchandising\\nHi...</td>\n",
       "      <td>https://resources.workable.com/merchandiser-jo...</td>\n",
       "      <td>Retail Merchandiser job description We are loo...</td>\n",
       "      <td>retail merchandiser looking experienced mercha...</td>\n",
       "      <td>23</td>\n",
       "    </tr>\n",
       "    <tr>\n",
       "      <th>1028</th>\n",
       "      <td>Retail</td>\n",
       "      <td>Store Manager job description</td>\n",
       "      <td>We are looking for a results driven retail Sto...</td>\n",
       "      <td>Develop business strategies to raise our custo...</td>\n",
       "      <td>Proven successful experience as a retail Store...</td>\n",
       "      <td>https://resources.workable.com/store-manager-j...</td>\n",
       "      <td>Retail Store Manager job description We are lo...</td>\n",
       "      <td>retail store manager looking results driven re...</td>\n",
       "      <td>23</td>\n",
       "    </tr>\n",
       "  </tbody>\n",
       "</table>\n",
       "</div>"
      ],
      "text/plain": [
       "     industry                   job_designation  \\\n",
       "1024   Retail      Area Manager job description   \n",
       "1025   Retail      Retail Buyer job description   \n",
       "1026   Retail  Category Manager job description   \n",
       "1027   Retail      Merchandiser job description   \n",
       "1028   Retail     Store Manager job description   \n",
       "\n",
       "                                        job_description  \\\n",
       "1024  We are looking for an experienced Area Manager...   \n",
       "1025  We are looking for a competent Retail buyer to...   \n",
       "1026  We are looking for a Category Manager to manag...   \n",
       "1027  We are looking for an experienced Merchandiser...   \n",
       "1028  We are looking for a results driven retail Sto...   \n",
       "\n",
       "                                       responsibilities  \\\n",
       "1024  Formulate fruitful business development strate...   \n",
       "1025  Identify customer preferences and forecast con...   \n",
       "1026  Analyze data or insights to determine industry...   \n",
       "1027  Plan and develop merchandising strategies that...   \n",
       "1028  Develop business strategies to raise our custo...   \n",
       "\n",
       "                                    requirements_skills  \\\n",
       "1024  Proven experience as area manager, store manag...   \n",
       "1025  Proven experience as a retail buyer or relevan...   \n",
       "1026  Proven experience as category manager or simil...   \n",
       "1027  Proven working experience in merchandising\\nHi...   \n",
       "1028  Proven successful experience as a retail Store...   \n",
       "\n",
       "                                              url_links  \\\n",
       "1024  https://resources.workable.com/area-manager-jo...   \n",
       "1025  https://resources.workable.com/retail-buyer-jo...   \n",
       "1026  https://resources.workable.com/category-manage...   \n",
       "1027  https://resources.workable.com/merchandiser-jo...   \n",
       "1028  https://resources.workable.com/store-manager-j...   \n",
       "\n",
       "                                                 resume  \\\n",
       "1024  Retail Area Manager job description We are loo...   \n",
       "1025  Retail Retail Buyer job description We are loo...   \n",
       "1026  Retail Category Manager job description We are...   \n",
       "1027  Retail Merchandiser job description We are loo...   \n",
       "1028  Retail Store Manager job description We are lo...   \n",
       "\n",
       "                                         processed_data  target  \n",
       "1024  retail area manager looking experienced area m...      23  \n",
       "1025  retail retail buyer looking competent retail b...      23  \n",
       "1026  retail category manager looking category manag...      23  \n",
       "1027  retail merchandiser looking experienced mercha...      23  \n",
       "1028  retail store manager looking results driven re...      23  "
      ]
     },
     "execution_count": 169,
     "metadata": {},
     "output_type": "execute_result"
    }
   ],
   "source": [
    "# Now encode the data\n",
    "label = LabelEncoder()\n",
    "df['target'] = label.fit_transform(df['industry'])\n",
    "df.tail()"
   ]
  },
  {
   "cell_type": "code",
   "execution_count": 170,
   "metadata": {
    "colab": {
     "base_uri": "https://localhost:8080/",
     "height": 321
    },
    "id": "beq39tfwpa18",
    "outputId": "bbec30c3-240d-4c3f-cf1b-69c30f58f35f"
   },
   "outputs": [
    {
     "data": {
      "text/plain": [
       "(array([170.,  74.,  78.,  56., 263., 111., 118.,  36.,  42.,  81.]),\n",
       " array([ 0. ,  2.5,  5. ,  7.5, 10. , 12.5, 15. , 17.5, 20. , 22.5, 25. ]),\n",
       " <BarContainer object of 10 artists>)"
      ]
     },
     "execution_count": 170,
     "metadata": {},
     "output_type": "execute_result"
    },
    {
     "data": {
      "image/png": "[encoded data removed]",
      "text/plain": [
       "<Figure size 432x288 with 1 Axes>"
      ]
     },
     "metadata": {
      "needs_background": "light"
     },
     "output_type": "display_data"
    }
   ],
   "source": [
    "plt.hist(df['target'])"
   ]
  },
  {
   "cell_type": "code",
   "execution_count": 171,
   "metadata": {},
   "outputs": [
    {
     "data": {
      "text/plain": [
       "array([ 0,  9,  1, 13,  5,  4,  6,  3,  7,  2, 20, 10, 19, 11, 25, 12, 14,\n",
       "       15, 16,  8, 17, 21, 18, 22, 24, 23])"
      ]
     },
     "execution_count": 171,
     "metadata": {},
     "output_type": "execute_result"
    }
   ],
   "source": [
    "df['target'].unique()"
   ]
  },
  {
   "cell_type": "code",
   "execution_count": 172,
   "metadata": {
    "id": "kifosYdSLbjj"
   },
   "outputs": [],
   "source": [
    "# VECTORIZATION\n",
    "\n",
    "from sklearn.feature_extraction.text import CountVectorizer\n",
    "\n",
    "vectorizer = CountVectorizer()\n",
    "text = vectorizer.fit_transform(df.processed_data).toarray()\n",
    "target = df['target']"
   ]
  },
  {
   "cell_type": "code",
   "execution_count": 173,
   "metadata": {
    "colab": {
     "base_uri": "https://localhost:8080/"
    },
    "id": "A94aEm-eXrFH",
    "outputId": "5c4e13eb-b371-45de-8de4-84bfa5c20936"
   },
   "outputs": [
    {
     "data": {
      "text/plain": [
       "(1029, 7792)"
      ]
     },
     "execution_count": 173,
     "metadata": {},
     "output_type": "execute_result"
    }
   ],
   "source": [
    "text.shape"
   ]
  },
  {
   "cell_type": "code",
   "execution_count": null,
   "metadata": {},
   "outputs": [],
   "source": []
  },
  {
   "cell_type": "markdown",
   "metadata": {
    "id": "bJBwJiiPd0cE"
   },
   "source": [
    "ANN MODEL"
   ]
  },
  {
   "cell_type": "code",
   "execution_count": 217,
   "metadata": {
    "id": "kcoW_IAOsY5w"
   },
   "outputs": [],
   "source": [
    "# SPLIT DATA INTO TRAIN AND TEST\n",
    "\n",
    "X_train, X_test, y_train, y_test = train_test_split(text, target, test_size = 0.20, random_state = 0)\n"
   ]
  },
  {
   "cell_type": "code",
   "execution_count": 218,
   "metadata": {
    "colab": {
     "base_uri": "https://localhost:8080/"
    },
    "id": "8w38k6s_uB5g",
    "outputId": "8e4407c0-c38e-40a5-b19e-6a40c066eb47"
   },
   "outputs": [
    {
     "name": "stdout",
     "output_type": "stream",
     "text": [
      "Model: \"sequential_14\"\n",
      "_________________________________________________________________\n",
      " Layer (type)                Output Shape              Param #   \n",
      "=================================================================\n",
      " dense_52 (Dense)            (None, 256)               1995008   \n",
      "                                                                 \n",
      " dense_53 (Dense)            (None, 128)               32896     \n",
      "                                                                 \n",
      " dense_54 (Dense)            (None, 64)                8256      \n",
      "                                                                 \n",
      " dense_55 (Dense)            (None, 1029)              66885     \n",
      "                                                                 \n",
      "=================================================================\n",
      "Total params: 2,103,045\n",
      "Trainable params: 2,103,045\n",
      "Non-trainable params: 0\n",
      "_________________________________________________________________\n"
     ]
    }
   ],
   "source": [
    "# MODEL BUILDING\n",
    "classifier = Sequential()\n",
    "classifier.add(Dense(256,activation = 'relu', input_dim = text.shape[1]))\n",
    "classifier.add(Dense(128, activation = 'relu'))\n",
    "classifier.add(Dense(64, activation='relu'))\n",
    "classifier.add(Dense(target.shape[0], activation = 'softmax'))\n",
    "classifier.summary()"
   ]
  },
  {
   "cell_type": "code",
   "execution_count": 219,
   "metadata": {
    "id": "HhJqrODjuBuv"
   },
   "outputs": [],
   "source": [
    "# COMPILE\n",
    "classifier.compile(optimizer = 'adam', loss = 'sparse_categorical_crossentropy', metrics = ['accuracy'])\n"
   ]
  },
  {
   "cell_type": "code",
   "execution_count": 220,
   "metadata": {},
   "outputs": [
    {
     "name": "stdout",
     "output_type": "stream",
     "text": [
      "Epoch 1/15\n",
      "26/26 [==============================] - 4s 36ms/step - loss: 4.8998 - accuracy: 0.1470 - val_loss: 2.2652 - val_accuracy: 0.4563\n",
      "Epoch 2/15\n",
      "26/26 [==============================] - 1s 21ms/step - loss: 1.5825 - accuracy: 0.6452 - val_loss: 1.1830 - val_accuracy: 0.6893\n",
      "Epoch 3/15\n",
      "26/26 [==============================] - 1s 20ms/step - loss: 0.5209 - accuracy: 0.9016 - val_loss: 0.7840 - val_accuracy: 0.7913\n",
      "Epoch 4/15\n",
      "26/26 [==============================] - 1s 22ms/step - loss: 0.1666 - accuracy: 0.9708 - val_loss: 0.7677 - val_accuracy: 0.8155\n",
      "Epoch 5/15\n",
      "26/26 [==============================] - 1s 21ms/step - loss: 0.1073 - accuracy: 0.9757 - val_loss: 0.6999 - val_accuracy: 0.8155\n",
      "Epoch 6/15\n",
      "26/26 [==============================] - 1s 21ms/step - loss: 0.0724 - accuracy: 0.9793 - val_loss: 0.7559 - val_accuracy: 0.8010\n",
      "Epoch 7/15\n",
      "26/26 [==============================] - 1s 20ms/step - loss: 0.0762 - accuracy: 0.9757 - val_loss: 0.7615 - val_accuracy: 0.8058\n",
      "Epoch 8/15\n",
      "26/26 [==============================] - 1s 22ms/step - loss: 0.0613 - accuracy: 0.9806 - val_loss: 0.7278 - val_accuracy: 0.8204\n",
      "Epoch 9/15\n",
      "26/26 [==============================] - 1s 22ms/step - loss: 0.0685 - accuracy: 0.9769 - val_loss: 0.7216 - val_accuracy: 0.8107\n",
      "Epoch 10/15\n",
      "26/26 [==============================] - 1s 21ms/step - loss: 0.0509 - accuracy: 0.9793 - val_loss: 0.6844 - val_accuracy: 0.8301\n",
      "Epoch 11/15\n",
      "26/26 [==============================] - 1s 21ms/step - loss: 0.0486 - accuracy: 0.9793 - val_loss: 0.7019 - val_accuracy: 0.8350\n",
      "Epoch 12/15\n",
      "26/26 [==============================] - 1s 21ms/step - loss: 0.0543 - accuracy: 0.9793 - val_loss: 0.6956 - val_accuracy: 0.8252\n",
      "Epoch 13/15\n",
      "26/26 [==============================] - 1s 20ms/step - loss: 0.0428 - accuracy: 0.9781 - val_loss: 0.6845 - val_accuracy: 0.8301\n",
      "Epoch 14/15\n",
      "26/26 [==============================] - 1s 20ms/step - loss: 0.0435 - accuracy: 0.9806 - val_loss: 0.7681 - val_accuracy: 0.8350\n",
      "Epoch 15/15\n",
      "26/26 [==============================] - 1s 22ms/step - loss: 0.0525 - accuracy: 0.9793 - val_loss: 0.6742 - val_accuracy: 0.8252\n"
     ]
    }
   ],
   "source": [
    "# FITTING THE ANN\n",
    "history = classifier.fit(X_train, y_train,validation_data =(X_test,y_test), epochs =15)"
   ]
  },
  {
   "cell_type": "code",
   "execution_count": 224,
   "metadata": {
    "colab": {
     "base_uri": "https://localhost:8080/",
     "height": 573
    },
    "id": "4Ly3xxQzwrnM",
    "outputId": "d4897a35-9c0c-4603-9c92-ec927749467e"
   },
   "outputs": [
    {
     "data": {
      "image/png": "[encoded data removed]",
      "text/plain": [
       "<Figure size 432x288 with 1 Axes>"
      ]
     },
     "metadata": {
      "needs_background": "light"
     },
     "output_type": "display_data"
    },
    {
     "data": {
      "image/png": "[encoded data removed]",
      "text/plain": [
       "<Figure size 432x288 with 1 Axes>"
      ]
     },
     "metadata": {
      "needs_background": "light"
     },
     "output_type": "display_data"
    }
   ],
   "source": [
    "# summarize history for accuracy\n",
    "plt.plot(history.history['accuracy'])\n",
    "plt.plot(history.history['val_accuracy'])\n",
    "plt.title('model accuracy')\n",
    "plt.ylabel('accuracy')\n",
    "plt.xlabel('epoch')\n",
    "plt.legend(['Train', 'Validation'], loc='upper left')\n",
    "plt.show()\n",
    "\n",
    "# summarize history for loss\n",
    "plt.plot(history.history['loss'])\n",
    "plt.plot(history.history['val_loss'])\n",
    "plt.title('model loss')\n",
    "plt.ylabel('loss')\n",
    "plt.xlabel('epoch')\n",
    "plt.legend(['Train', 'Validation'], loc='upper left')\n",
    "plt.show()\n"
   ]
  },
  {
   "cell_type": "code",
   "execution_count": 221,
   "metadata": {
    "id": "vJ5qsd6FuM_S"
   },
   "outputs": [
    {
     "name": "stdout",
     "output_type": "stream",
     "text": [
      "7/7 [==============================] - 0s 5ms/step\n"
     ]
    }
   ],
   "source": [
    "#PREDICTION WITH CLASSIFIER \n",
    "ann_pred = classifier.predict(X_test) "
   ]
  },
  {
   "cell_type": "code",
   "execution_count": 222,
   "metadata": {
    "colab": {
     "base_uri": "https://localhost:8080/"
    },
    "id": "WeOyj7KxuM8P",
    "outputId": "0170ad56-cb39-4a1e-8de6-3e0cf2177a8b"
   },
   "outputs": [
    {
     "data": {
      "text/plain": [
       "array([12, 10,  1, 10, 11,  1,  7, 13,  0,  0, 16,  4, 13, 17,  3, 10,  4,\n",
       "        1, 12,  4, 10, 10,  7, 16, 10, 11,  1, 13, 12,  6, 17, 12, 12,  0,\n",
       "       10,  1,  3, 13, 11, 13,  9, 10, 17, 16,  3,  9, 17, 16,  0,  0, 17,\n",
       "       16, 10, 13, 16,  3,  3, 11,  4,  7, 10, 13, 11,  1,  9, 10, 18, 24,\n",
       "       24, 12, 23,  2, 10, 10, 10, 10, 13, 17, 12, 13, 20, 10,  6, 24,  1,\n",
       "       17, 10, 10, 23, 13, 24, 12, 13, 24,  7, 10, 20, 11, 10, 14,  4,  6,\n",
       "       13, 24,  5, 17,  6, 10, 11, 18, 15,  3, 12,  1, 12, 15, 13,  8, 20,\n",
       "        7,  8, 24,  1, 13, 18, 10, 16, 11,  6, 12, 13,  9,  4, 12, 18, 10,\n",
       "        1, 24, 11, 23, 11,  0,  4, 18, 11, 11, 10, 14,  1, 12, 10, 11, 13,\n",
       "        0, 10,  1,  1,  7, 18,  7,  4, 10, 24, 11,  7,  9,  0, 25,  0,  2,\n",
       "        1, 20, 11, 10,  2, 13, 22, 18, 24,  6, 12, 17, 11,  8,  7, 10,  6,\n",
       "        1, 13, 10, 16,  1, 17,  1,  8,  1, 24, 24, 10, 23, 15, 10, 17, 11,\n",
       "       10, 13], dtype=int64)"
      ]
     },
     "execution_count": 222,
     "metadata": {},
     "output_type": "execute_result"
    }
   ],
   "source": [
    "#PREDICTION WITH CLASSIFIER \n",
    "# y_pred = (y_pred > 0.5) \n",
    "predict = np.argmax(ann_pred, axis=1)\n",
    "predict\n"
   ]
  },
  {
   "cell_type": "code",
   "execution_count": 223,
   "metadata": {
    "colab": {
     "base_uri": "https://localhost:8080/"
    },
    "id": "qjf3swVQd0L1",
    "outputId": "10823a23-b63e-4c5e-8a3e-2c9a9aef505d"
   },
   "outputs": [
    {
     "name": "stdout",
     "output_type": "stream",
     "text": [
      "7/7 [==============================] - 0s 7ms/step - loss: 0.6742 - accuracy: 0.8252\n",
      "ACCURACY OF ANN MODEL :  82.52426981925964\n"
     ]
    }
   ],
   "source": [
    "# MODEL EVALUATION\n",
    "Score , Accuracy= classifier.evaluate(X_test, y_test,batch_size=32)\n",
    "print(\"ACCURACY OF ANN MODEL : \",Accuracy*100)"
   ]
  },
  {
   "cell_type": "markdown",
   "metadata": {
    "id": "mq3N9-oLuWTL"
   },
   "source": [
    "PREDICTION FOR THE DATASET"
   ]
  },
  {
   "cell_type": "code",
   "execution_count": 225,
   "metadata": {
    "id": "D7EDpQoEuR6q"
   },
   "outputs": [],
   "source": [
    "t_data = pd.DataFrame.from_dict(df['processed_data'])"
   ]
  },
  {
   "cell_type": "code",
   "execution_count": 226,
   "metadata": {
    "id": "RzlcMaeeuR2F"
   },
   "outputs": [],
   "source": [
    "t_data['label'] = df['industry']\n",
    "t_data['actual'] = df['target']\n"
   ]
  },
  {
   "cell_type": "code",
   "execution_count": 227,
   "metadata": {
    "colab": {
     "base_uri": "https://localhost:8080/",
     "height": 206
    },
    "id": "79FD0mO_uRxN",
    "outputId": "1bd9d3a4-3066-46c3-8c1b-e662c61e51f4"
   },
   "outputs": [
    {
     "data": {
      "text/html": [
       "<div>\n",
       "<style scoped>\n",
       "    .dataframe tbody tr th:only-of-type {\n",
       "        vertical-align: middle;\n",
       "    }\n",
       "\n",
       "    .dataframe tbody tr th {\n",
       "        vertical-align: top;\n",
       "    }\n",
       "\n",
       "    .dataframe thead th {\n",
       "        text-align: right;\n",
       "    }\n",
       "</style>\n",
       "<table border=\"1\" class=\"dataframe\">\n",
       "  <thead>\n",
       "    <tr style=\"text-align: right;\">\n",
       "      <th></th>\n",
       "      <th>processed_data</th>\n",
       "      <th>label</th>\n",
       "      <th>actual</th>\n",
       "    </tr>\n",
       "  </thead>\n",
       "  <tbody>\n",
       "    <tr>\n",
       "      <th>0</th>\n",
       "      <td>accounting billing manager looking billing man...</td>\n",
       "      <td>Accounting</td>\n",
       "      <td>0</td>\n",
       "    </tr>\n",
       "    <tr>\n",
       "      <th>1</th>\n",
       "      <td>accounting accounts payable specialist looking...</td>\n",
       "      <td>Accounting</td>\n",
       "      <td>0</td>\n",
       "    </tr>\n",
       "    <tr>\n",
       "      <th>2</th>\n",
       "      <td>accounting medical biller looking medical bill...</td>\n",
       "      <td>Accounting</td>\n",
       "      <td>0</td>\n",
       "    </tr>\n",
       "    <tr>\n",
       "      <th>3</th>\n",
       "      <td>accounting cost analyst looking cost analyst h...</td>\n",
       "      <td>Accounting</td>\n",
       "      <td>0</td>\n",
       "    </tr>\n",
       "    <tr>\n",
       "      <th>4</th>\n",
       "      <td>accounting payroll accountant looking experien...</td>\n",
       "      <td>Accounting</td>\n",
       "      <td>0</td>\n",
       "    </tr>\n",
       "  </tbody>\n",
       "</table>\n",
       "</div>"
      ],
      "text/plain": [
       "                                      processed_data       label  actual\n",
       "0  accounting billing manager looking billing man...  Accounting       0\n",
       "1  accounting accounts payable specialist looking...  Accounting       0\n",
       "2  accounting medical biller looking medical bill...  Accounting       0\n",
       "3  accounting cost analyst looking cost analyst h...  Accounting       0\n",
       "4  accounting payroll accountant looking experien...  Accounting       0"
      ]
     },
     "execution_count": 227,
     "metadata": {},
     "output_type": "execute_result"
    }
   ],
   "source": [
    "t_data.head()"
   ]
  },
  {
   "cell_type": "code",
   "execution_count": 250,
   "metadata": {
    "id": "Nbd3CYRkuRsD"
   },
   "outputs": [
    {
     "name": "stdout",
     "output_type": "stream",
     "text": [
      "33/33 [==============================] - 0s 6ms/step\n"
     ]
    }
   ],
   "source": [
    "test = vectorizer.transform(t_data.processed_data).toarray()\n",
    "pred = classifier.predict(test)"
   ]
  },
  {
   "cell_type": "code",
   "execution_count": 251,
   "metadata": {
    "id": "PeH9HyGmuRnm"
   },
   "outputs": [],
   "source": [
    "pred = np.argmax(pred)\n",
    "y_pred = (pred > 0.5) \n",
    "t_data['predicted'] = y_pred"
   ]
  },
  {
   "cell_type": "code",
   "execution_count": 253,
   "metadata": {
    "colab": {
     "base_uri": "https://localhost:8080/",
     "height": 206
    },
    "id": "JAoxVM8cxWuF",
    "outputId": "88d9a4a1-dc30-401e-d8a3-33b07f2e0789"
   },
   "outputs": [
    {
     "data": {
      "text/html": [
       "<div>\n",
       "<style scoped>\n",
       "    .dataframe tbody tr th:only-of-type {\n",
       "        vertical-align: middle;\n",
       "    }\n",
       "\n",
       "    .dataframe tbody tr th {\n",
       "        vertical-align: top;\n",
       "    }\n",
       "\n",
       "    .dataframe thead th {\n",
       "        text-align: right;\n",
       "    }\n",
       "</style>\n",
       "<table border=\"1\" class=\"dataframe\">\n",
       "  <thead>\n",
       "    <tr style=\"text-align: right;\">\n",
       "      <th></th>\n",
       "      <th>processed_data</th>\n",
       "      <th>label</th>\n",
       "      <th>actual</th>\n",
       "      <th>predicted</th>\n",
       "    </tr>\n",
       "  </thead>\n",
       "  <tbody>\n",
       "    <tr>\n",
       "      <th>0</th>\n",
       "      <td>accounting billing manager looking billing man...</td>\n",
       "      <td>Accounting</td>\n",
       "      <td>0</td>\n",
       "      <td>True</td>\n",
       "    </tr>\n",
       "    <tr>\n",
       "      <th>1</th>\n",
       "      <td>accounting accounts payable specialist looking...</td>\n",
       "      <td>Accounting</td>\n",
       "      <td>0</td>\n",
       "      <td>True</td>\n",
       "    </tr>\n",
       "    <tr>\n",
       "      <th>2</th>\n",
       "      <td>accounting medical biller looking medical bill...</td>\n",
       "      <td>Accounting</td>\n",
       "      <td>0</td>\n",
       "      <td>True</td>\n",
       "    </tr>\n",
       "    <tr>\n",
       "      <th>3</th>\n",
       "      <td>accounting cost analyst looking cost analyst h...</td>\n",
       "      <td>Accounting</td>\n",
       "      <td>0</td>\n",
       "      <td>True</td>\n",
       "    </tr>\n",
       "    <tr>\n",
       "      <th>4</th>\n",
       "      <td>accounting payroll accountant looking experien...</td>\n",
       "      <td>Accounting</td>\n",
       "      <td>0</td>\n",
       "      <td>True</td>\n",
       "    </tr>\n",
       "    <tr>\n",
       "      <th>5</th>\n",
       "      <td>accounting tax preparer looking experienced ta...</td>\n",
       "      <td>Accounting</td>\n",
       "      <td>0</td>\n",
       "      <td>True</td>\n",
       "    </tr>\n",
       "    <tr>\n",
       "      <th>6</th>\n",
       "      <td>accounting mortgage loan officer looking exper...</td>\n",
       "      <td>Accounting</td>\n",
       "      <td>0</td>\n",
       "      <td>True</td>\n",
       "    </tr>\n",
       "    <tr>\n",
       "      <th>7</th>\n",
       "      <td>accounting staff accountant looking staff acco...</td>\n",
       "      <td>Accounting</td>\n",
       "      <td>0</td>\n",
       "      <td>True</td>\n",
       "    </tr>\n",
       "    <tr>\n",
       "      <th>8</th>\n",
       "      <td>accounting night auditor looking night auditor...</td>\n",
       "      <td>Accounting</td>\n",
       "      <td>0</td>\n",
       "      <td>True</td>\n",
       "    </tr>\n",
       "    <tr>\n",
       "      <th>9</th>\n",
       "      <td>accounting accounts administrator looking acco...</td>\n",
       "      <td>Accounting</td>\n",
       "      <td>0</td>\n",
       "      <td>True</td>\n",
       "    </tr>\n",
       "  </tbody>\n",
       "</table>\n",
       "</div>"
      ],
      "text/plain": [
       "                                      processed_data       label  actual  \\\n",
       "0  accounting billing manager looking billing man...  Accounting       0   \n",
       "1  accounting accounts payable specialist looking...  Accounting       0   \n",
       "2  accounting medical biller looking medical bill...  Accounting       0   \n",
       "3  accounting cost analyst looking cost analyst h...  Accounting       0   \n",
       "4  accounting payroll accountant looking experien...  Accounting       0   \n",
       "5  accounting tax preparer looking experienced ta...  Accounting       0   \n",
       "6  accounting mortgage loan officer looking exper...  Accounting       0   \n",
       "7  accounting staff accountant looking staff acco...  Accounting       0   \n",
       "8  accounting night auditor looking night auditor...  Accounting       0   \n",
       "9  accounting accounts administrator looking acco...  Accounting       0   \n",
       "\n",
       "   predicted  \n",
       "0       True  \n",
       "1       True  \n",
       "2       True  \n",
       "3       True  \n",
       "4       True  \n",
       "5       True  \n",
       "6       True  \n",
       "7       True  \n",
       "8       True  \n",
       "9       True  "
      ]
     },
     "execution_count": 253,
     "metadata": {},
     "output_type": "execute_result"
    }
   ],
   "source": [
    "t_data.head(10)"
   ]
  },
  {
   "cell_type": "markdown",
   "metadata": {
    "id": "ZwOiqBxPxhtL"
   },
   "source": [
    "NEW DATA PREDICTION"
   ]
  },
  {
   "cell_type": "code",
   "execution_count": 259,
   "metadata": {
    "colab": {
     "base_uri": "https://localhost:8080/"
    },
    "id": "3DltosnOxhq6",
    "outputId": "c96e9976-9c3f-4543-ab40-538e7b25bd01"
   },
   "outputs": [
    {
     "name": "stdout",
     "output_type": "stream",
     "text": [
      "1/1 [==============================] - 0s 41ms/step\n"
     ]
    }
   ],
   "source": [
    "import pandas as pd\n",
    "\n",
    "resume_example = ['computer skills proficient ms office word basic excel power point strength hard working loyalty creativity self motivated responsible initiative good people management skill positive attitude knowledge windows internet education details bachelor electrical engineering electrical engineering nashik maharashtra guru gobind singh college engineering research centre diploma electrical engineering nashik maharashtra e polytechnic college testing engineer skill details excel exprience 6 months ms office exprience 6 months word exprience 6 monthscompany details company description department testing responsibilities check acb vcb circuit breaker following test conducted circuit breaker per drawing 1 check breaker timing 2 check contact resistance using contact resistance meter crm 3 check breaker insulation resistance ir 4 check breaker rack rack properly 5 check closing tripping operation work properly check following test conducted mcc pcc panel 1 insulation resistance ir test 2 contact resistance crm test 3 check connection p panel per drawing check following test conducted transformer 1 insulation resistance ir test 2 transformer ratio test 3 transformer vector group test 4 magnetic balance test 5 magnetic current test 6 check transformer tapping remotely well manually 7 check alarm tripping protection command work properly per circuit diagram check test conducted hv cables 1 hi pot test 2 insulation resistance ir test check lv cables using megger ir test check relay connections per circuit diagram create defects list arising testing try find solution minimize problem company trans power solutions description lake site co op soc adi shankaracharya marg opp iit main gate powai 400076']\n",
    "\n",
    "test = vectorizer.transform(resume_example).toarray()\n",
    "\n",
    "pred = classifier.predict(test)\n",
    "\n",
    "\n",
    "sort_data = tf.nn.top_k(pred, k=5, sorted=True, name=None)\n",
    "array =np.array(sort_data.indices)\n",
    "\n",
    "final_prediction = np.argmax(pred)\n"
   ]
  },
  {
   "cell_type": "code",
   "execution_count": 260,
   "metadata": {
    "id": "pigwHcFixhoR"
   },
   "outputs": [
    {
     "name": "stdout",
     "output_type": "stream",
     "text": [
      "TOP 5 PREDICTED RESULTS : \n",
      " [[ 2  7  0 10  4]]\n"
     ]
    }
   ],
   "source": [
    "print('TOP 5 PREDICTED RESULTS : \\n', array)"
   ]
  },
  {
   "cell_type": "code",
   "execution_count": 261,
   "metadata": {
    "id": "PYPTbe712GS_"
   },
   "outputs": [
    {
     "name": "stdout",
     "output_type": "stream",
     "text": [
      "TOPMOST PREDICTED RESULTS : \n",
      " 2\n"
     ]
    }
   ],
   "source": [
    "print('TOPMOST PREDICTED RESULTS : \\n', final_prediction)"
   ]
  },
  {
   "cell_type": "code",
   "execution_count": null,
   "metadata": {
    "id": "XVgZ3ZJ42GHX"
   },
   "outputs": [],
   "source": []
  },
  {
   "cell_type": "code",
   "execution_count": null,
   "metadata": {
    "id": "2aIEnxzp2GF-"
   },
   "outputs": [],
   "source": []
  },
  {
   "cell_type": "code",
   "execution_count": null,
   "metadata": {
    "id": "J_Htfr2txhgg"
   },
   "outputs": [],
   "source": []
  }
 ],
 "metadata": {
  "colab": {
   "provenance": []
  },
  "kernelspec": {
   "display_name": "Python 3 (ipykernel)",
   "language": "python",
   "name": "python3"
  },
  "language_info": {
   "codemirror_mode": {
    "name": "ipython",
    "version": 3
   },
   "file_extension": ".py",
   "mimetype": "text/x-python",
   "name": "python",
   "nbconvert_exporter": "python",
   "pygments_lexer": "ipython3",
   "version": "3.9.12"
  }
 },
 "nbformat": 4,
 "nbformat_minor": 1
}
